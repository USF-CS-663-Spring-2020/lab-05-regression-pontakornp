{
 "cells": [
  {
   "cell_type": "code",
   "execution_count": 10,
   "metadata": {},
   "outputs": [],
   "source": [
    "import pandas as pd\n",
    "\n",
    "df = pd.read_csv(\"toluca.csv\")"
   ]
  },
  {
   "cell_type": "code",
   "execution_count": 11,
   "metadata": {
    "scrolled": true
   },
   "outputs": [
    {
     "data": {
      "text/html": [
       "<div>\n",
       "<style scoped>\n",
       "    .dataframe tbody tr th:only-of-type {\n",
       "        vertical-align: middle;\n",
       "    }\n",
       "\n",
       "    .dataframe tbody tr th {\n",
       "        vertical-align: top;\n",
       "    }\n",
       "\n",
       "    .dataframe thead th {\n",
       "        text-align: right;\n",
       "    }\n",
       "</style>\n",
       "<table border=\"1\" class=\"dataframe\">\n",
       "  <thead>\n",
       "    <tr style=\"text-align: right;\">\n",
       "      <th></th>\n",
       "      <th>lotSize</th>\n",
       "      <th>workHours</th>\n",
       "    </tr>\n",
       "  </thead>\n",
       "  <tbody>\n",
       "    <tr>\n",
       "      <th>0</th>\n",
       "      <td>80</td>\n",
       "      <td>399</td>\n",
       "    </tr>\n",
       "    <tr>\n",
       "      <th>1</th>\n",
       "      <td>30</td>\n",
       "      <td>121</td>\n",
       "    </tr>\n",
       "    <tr>\n",
       "      <th>2</th>\n",
       "      <td>50</td>\n",
       "      <td>221</td>\n",
       "    </tr>\n",
       "    <tr>\n",
       "      <th>3</th>\n",
       "      <td>90</td>\n",
       "      <td>376</td>\n",
       "    </tr>\n",
       "    <tr>\n",
       "      <th>4</th>\n",
       "      <td>70</td>\n",
       "      <td>361</td>\n",
       "    </tr>\n",
       "    <tr>\n",
       "      <th>5</th>\n",
       "      <td>60</td>\n",
       "      <td>224</td>\n",
       "    </tr>\n",
       "    <tr>\n",
       "      <th>6</th>\n",
       "      <td>120</td>\n",
       "      <td>546</td>\n",
       "    </tr>\n",
       "    <tr>\n",
       "      <th>7</th>\n",
       "      <td>80</td>\n",
       "      <td>352</td>\n",
       "    </tr>\n",
       "    <tr>\n",
       "      <th>8</th>\n",
       "      <td>100</td>\n",
       "      <td>353</td>\n",
       "    </tr>\n",
       "    <tr>\n",
       "      <th>9</th>\n",
       "      <td>50</td>\n",
       "      <td>157</td>\n",
       "    </tr>\n",
       "    <tr>\n",
       "      <th>10</th>\n",
       "      <td>40</td>\n",
       "      <td>160</td>\n",
       "    </tr>\n",
       "    <tr>\n",
       "      <th>11</th>\n",
       "      <td>70</td>\n",
       "      <td>252</td>\n",
       "    </tr>\n",
       "    <tr>\n",
       "      <th>12</th>\n",
       "      <td>90</td>\n",
       "      <td>389</td>\n",
       "    </tr>\n",
       "    <tr>\n",
       "      <th>13</th>\n",
       "      <td>20</td>\n",
       "      <td>113</td>\n",
       "    </tr>\n",
       "    <tr>\n",
       "      <th>14</th>\n",
       "      <td>110</td>\n",
       "      <td>435</td>\n",
       "    </tr>\n",
       "    <tr>\n",
       "      <th>15</th>\n",
       "      <td>100</td>\n",
       "      <td>420</td>\n",
       "    </tr>\n",
       "    <tr>\n",
       "      <th>16</th>\n",
       "      <td>30</td>\n",
       "      <td>212</td>\n",
       "    </tr>\n",
       "    <tr>\n",
       "      <th>17</th>\n",
       "      <td>50</td>\n",
       "      <td>268</td>\n",
       "    </tr>\n",
       "    <tr>\n",
       "      <th>18</th>\n",
       "      <td>90</td>\n",
       "      <td>377</td>\n",
       "    </tr>\n",
       "    <tr>\n",
       "      <th>19</th>\n",
       "      <td>110</td>\n",
       "      <td>421</td>\n",
       "    </tr>\n",
       "    <tr>\n",
       "      <th>20</th>\n",
       "      <td>30</td>\n",
       "      <td>273</td>\n",
       "    </tr>\n",
       "    <tr>\n",
       "      <th>21</th>\n",
       "      <td>90</td>\n",
       "      <td>468</td>\n",
       "    </tr>\n",
       "    <tr>\n",
       "      <th>22</th>\n",
       "      <td>40</td>\n",
       "      <td>244</td>\n",
       "    </tr>\n",
       "    <tr>\n",
       "      <th>23</th>\n",
       "      <td>80</td>\n",
       "      <td>342</td>\n",
       "    </tr>\n",
       "    <tr>\n",
       "      <th>24</th>\n",
       "      <td>70</td>\n",
       "      <td>323</td>\n",
       "    </tr>\n",
       "  </tbody>\n",
       "</table>\n",
       "</div>"
      ],
      "text/plain": [
       "    lotSize  workHours\n",
       "0        80        399\n",
       "1        30        121\n",
       "2        50        221\n",
       "3        90        376\n",
       "4        70        361\n",
       "5        60        224\n",
       "6       120        546\n",
       "7        80        352\n",
       "8       100        353\n",
       "9        50        157\n",
       "10       40        160\n",
       "11       70        252\n",
       "12       90        389\n",
       "13       20        113\n",
       "14      110        435\n",
       "15      100        420\n",
       "16       30        212\n",
       "17       50        268\n",
       "18       90        377\n",
       "19      110        421\n",
       "20       30        273\n",
       "21       90        468\n",
       "22       40        244\n",
       "23       80        342\n",
       "24       70        323"
      ]
     },
     "execution_count": 11,
     "metadata": {},
     "output_type": "execute_result"
    }
   ],
   "source": [
    "df"
   ]
  },
  {
   "cell_type": "code",
   "execution_count": 12,
   "metadata": {},
   "outputs": [
    {
     "data": {
      "text/plain": [
       "<matplotlib.axes._subplots.AxesSubplot at 0x1a16a8ce48>"
      ]
     },
     "execution_count": 12,
     "metadata": {},
     "output_type": "execute_result"
    },
    {
     "data": {
      "image/png": "[encoded data removed]",
      "text/plain": [
       "<Figure size 432x288 with 1 Axes>"
      ]
     },
     "metadata": {
      "needs_background": "light"
     },
     "output_type": "display_data"
    }
   ],
   "source": [
    "import matplotlib.pyplot as plt\n",
    "df.plot(kind='scatter', x='lotSize', y='workHours')"
   ]
  },
  {
   "cell_type": "code",
   "execution_count": 13,
   "metadata": {},
   "outputs": [
    {
     "data": {
      "text/plain": [
       "[Text(0,0.5,'Residual'), Text(0.5,0,'Lot Size')]"
      ]
     },
     "execution_count": 13,
     "metadata": {},
     "output_type": "execute_result"
    },
    {
     "data": {
      "image/png": "[encoded data removed]",
      "text/plain": [
       "<Figure size 432x288 with 1 Axes>"
      ]
     },
     "metadata": {
      "needs_background": "light"
     },
     "output_type": "display_data"
    }
   ],
   "source": [
    "import seaborn as sns\n",
    "\n",
    "r1 = sns.residplot('lotSize', 'workHours', data=df)\n",
    "r1.set(xlabel='Lot Size', ylabel='Residual')"
   ]
  },
  {
   "cell_type": "code",
   "execution_count": 14,
   "metadata": {},
   "outputs": [
    {
     "data": {
      "text/plain": [
       "LinearRegression(copy_X=True, fit_intercept=True, n_jobs=1, normalize=False)"
      ]
     },
     "execution_count": 14,
     "metadata": {},
     "output_type": "execute_result"
    }
   ],
   "source": [
    "from sklearn.linear_model import LinearRegression\n",
    "\n",
    "reg = LinearRegression()\n",
    "reg.fit(df.drop('workHours', axis=1), df.iloc[:,1])"
   ]
  },
  {
   "cell_type": "code",
   "execution_count": 15,
   "metadata": {
    "scrolled": true
   },
   "outputs": [
    {
     "data": {
      "text/plain": [
       "array([3.57020202])"
      ]
     },
     "execution_count": 15,
     "metadata": {},
     "output_type": "execute_result"
    }
   ],
   "source": [
    "reg.coef_"
   ]
  },
  {
   "cell_type": "code",
   "execution_count": 16,
   "metadata": {},
   "outputs": [
    {
     "data": {
      "text/plain": [
       "62.365858585858575"
      ]
     },
     "execution_count": 16,
     "metadata": {},
     "output_type": "execute_result"
    }
   ],
   "source": [
    "reg.intercept_"
   ]
  },
  {
   "cell_type": "code",
   "execution_count": 17,
   "metadata": {},
   "outputs": [],
   "source": [
    "# y = 3.57x + 62.36"
   ]
  },
  {
   "cell_type": "markdown",
   "metadata": {},
   "source": [
    "## Toluca Dataset\n",
    "\n",
    "- the scatter plot looks linear\n",
    "- residual plot tells that, we can somehow predict Lot Size by Work Hours as it is scattered all over the g\n",
    "- the coefficient or the slope tends to be a big positive number which confirms that there's relationship between Lot Size and Work Hours\n",
    "- As a result, I think this is a good predictor for SLR"
   ]
  },
  {
   "cell_type": "code",
   "execution_count": 26,
   "metadata": {
    "scrolled": true
   },
   "outputs": [
    {
     "data": {
      "text/html": [
       "<div>\n",
       "<style scoped>\n",
       "    .dataframe tbody tr th:only-of-type {\n",
       "        vertical-align: middle;\n",
       "    }\n",
       "\n",
       "    .dataframe tbody tr th {\n",
       "        vertical-align: top;\n",
       "    }\n",
       "\n",
       "    .dataframe thead th {\n",
       "        text-align: right;\n",
       "    }\n",
       "</style>\n",
       "<table border=\"1\" class=\"dataframe\">\n",
       "  <thead>\n",
       "    <tr style=\"text-align: right;\">\n",
       "      <th></th>\n",
       "      <th>Unnamed: 0</th>\n",
       "      <th>Income</th>\n",
       "      <th>Limit</th>\n",
       "      <th>Rating</th>\n",
       "      <th>Cards</th>\n",
       "      <th>Age</th>\n",
       "      <th>Education</th>\n",
       "      <th>Gender</th>\n",
       "      <th>Student</th>\n",
       "      <th>Married</th>\n",
       "      <th>Ethnicity</th>\n",
       "      <th>Balance</th>\n",
       "    </tr>\n",
       "  </thead>\n",
       "  <tbody>\n",
       "    <tr>\n",
       "      <th>0</th>\n",
       "      <td>1</td>\n",
       "      <td>14.891</td>\n",
       "      <td>3606</td>\n",
       "      <td>283</td>\n",
       "      <td>2</td>\n",
       "      <td>34</td>\n",
       "      <td>11</td>\n",
       "      <td>Male</td>\n",
       "      <td>No</td>\n",
       "      <td>Yes</td>\n",
       "      <td>Caucasian</td>\n",
       "      <td>333</td>\n",
       "    </tr>\n",
       "    <tr>\n",
       "      <th>1</th>\n",
       "      <td>2</td>\n",
       "      <td>106.025</td>\n",
       "      <td>6645</td>\n",
       "      <td>483</td>\n",
       "      <td>3</td>\n",
       "      <td>82</td>\n",
       "      <td>15</td>\n",
       "      <td>Female</td>\n",
       "      <td>Yes</td>\n",
       "      <td>Yes</td>\n",
       "      <td>Asian</td>\n",
       "      <td>903</td>\n",
       "    </tr>\n",
       "    <tr>\n",
       "      <th>2</th>\n",
       "      <td>3</td>\n",
       "      <td>104.593</td>\n",
       "      <td>7075</td>\n",
       "      <td>514</td>\n",
       "      <td>4</td>\n",
       "      <td>71</td>\n",
       "      <td>11</td>\n",
       "      <td>Male</td>\n",
       "      <td>No</td>\n",
       "      <td>No</td>\n",
       "      <td>Asian</td>\n",
       "      <td>580</td>\n",
       "    </tr>\n",
       "    <tr>\n",
       "      <th>3</th>\n",
       "      <td>4</td>\n",
       "      <td>148.924</td>\n",
       "      <td>9504</td>\n",
       "      <td>681</td>\n",
       "      <td>3</td>\n",
       "      <td>36</td>\n",
       "      <td>11</td>\n",
       "      <td>Female</td>\n",
       "      <td>No</td>\n",
       "      <td>No</td>\n",
       "      <td>Asian</td>\n",
       "      <td>964</td>\n",
       "    </tr>\n",
       "    <tr>\n",
       "      <th>4</th>\n",
       "      <td>5</td>\n",
       "      <td>55.882</td>\n",
       "      <td>4897</td>\n",
       "      <td>357</td>\n",
       "      <td>2</td>\n",
       "      <td>68</td>\n",
       "      <td>16</td>\n",
       "      <td>Male</td>\n",
       "      <td>No</td>\n",
       "      <td>Yes</td>\n",
       "      <td>Caucasian</td>\n",
       "      <td>331</td>\n",
       "    </tr>\n",
       "    <tr>\n",
       "      <th>5</th>\n",
       "      <td>6</td>\n",
       "      <td>80.180</td>\n",
       "      <td>8047</td>\n",
       "      <td>569</td>\n",
       "      <td>4</td>\n",
       "      <td>77</td>\n",
       "      <td>10</td>\n",
       "      <td>Male</td>\n",
       "      <td>No</td>\n",
       "      <td>No</td>\n",
       "      <td>Caucasian</td>\n",
       "      <td>1151</td>\n",
       "    </tr>\n",
       "    <tr>\n",
       "      <th>6</th>\n",
       "      <td>7</td>\n",
       "      <td>20.996</td>\n",
       "      <td>3388</td>\n",
       "      <td>259</td>\n",
       "      <td>2</td>\n",
       "      <td>37</td>\n",
       "      <td>12</td>\n",
       "      <td>Female</td>\n",
       "      <td>No</td>\n",
       "      <td>No</td>\n",
       "      <td>African American</td>\n",
       "      <td>203</td>\n",
       "    </tr>\n",
       "    <tr>\n",
       "      <th>7</th>\n",
       "      <td>8</td>\n",
       "      <td>71.408</td>\n",
       "      <td>7114</td>\n",
       "      <td>512</td>\n",
       "      <td>2</td>\n",
       "      <td>87</td>\n",
       "      <td>9</td>\n",
       "      <td>Male</td>\n",
       "      <td>No</td>\n",
       "      <td>No</td>\n",
       "      <td>Asian</td>\n",
       "      <td>872</td>\n",
       "    </tr>\n",
       "    <tr>\n",
       "      <th>8</th>\n",
       "      <td>9</td>\n",
       "      <td>15.125</td>\n",
       "      <td>3300</td>\n",
       "      <td>266</td>\n",
       "      <td>5</td>\n",
       "      <td>66</td>\n",
       "      <td>13</td>\n",
       "      <td>Female</td>\n",
       "      <td>No</td>\n",
       "      <td>No</td>\n",
       "      <td>Caucasian</td>\n",
       "      <td>279</td>\n",
       "    </tr>\n",
       "    <tr>\n",
       "      <th>9</th>\n",
       "      <td>10</td>\n",
       "      <td>71.061</td>\n",
       "      <td>6819</td>\n",
       "      <td>491</td>\n",
       "      <td>3</td>\n",
       "      <td>41</td>\n",
       "      <td>19</td>\n",
       "      <td>Female</td>\n",
       "      <td>Yes</td>\n",
       "      <td>Yes</td>\n",
       "      <td>African American</td>\n",
       "      <td>1350</td>\n",
       "    </tr>\n",
       "    <tr>\n",
       "      <th>10</th>\n",
       "      <td>11</td>\n",
       "      <td>63.095</td>\n",
       "      <td>8117</td>\n",
       "      <td>589</td>\n",
       "      <td>4</td>\n",
       "      <td>30</td>\n",
       "      <td>14</td>\n",
       "      <td>Male</td>\n",
       "      <td>No</td>\n",
       "      <td>Yes</td>\n",
       "      <td>Caucasian</td>\n",
       "      <td>1407</td>\n",
       "    </tr>\n",
       "    <tr>\n",
       "      <th>11</th>\n",
       "      <td>12</td>\n",
       "      <td>15.045</td>\n",
       "      <td>1311</td>\n",
       "      <td>138</td>\n",
       "      <td>3</td>\n",
       "      <td>64</td>\n",
       "      <td>16</td>\n",
       "      <td>Male</td>\n",
       "      <td>No</td>\n",
       "      <td>No</td>\n",
       "      <td>Caucasian</td>\n",
       "      <td>0</td>\n",
       "    </tr>\n",
       "    <tr>\n",
       "      <th>12</th>\n",
       "      <td>13</td>\n",
       "      <td>80.616</td>\n",
       "      <td>5308</td>\n",
       "      <td>394</td>\n",
       "      <td>1</td>\n",
       "      <td>57</td>\n",
       "      <td>7</td>\n",
       "      <td>Female</td>\n",
       "      <td>No</td>\n",
       "      <td>Yes</td>\n",
       "      <td>Asian</td>\n",
       "      <td>204</td>\n",
       "    </tr>\n",
       "    <tr>\n",
       "      <th>13</th>\n",
       "      <td>14</td>\n",
       "      <td>43.682</td>\n",
       "      <td>6922</td>\n",
       "      <td>511</td>\n",
       "      <td>1</td>\n",
       "      <td>49</td>\n",
       "      <td>9</td>\n",
       "      <td>Male</td>\n",
       "      <td>No</td>\n",
       "      <td>Yes</td>\n",
       "      <td>Caucasian</td>\n",
       "      <td>1081</td>\n",
       "    </tr>\n",
       "    <tr>\n",
       "      <th>14</th>\n",
       "      <td>15</td>\n",
       "      <td>19.144</td>\n",
       "      <td>3291</td>\n",
       "      <td>269</td>\n",
       "      <td>2</td>\n",
       "      <td>75</td>\n",
       "      <td>13</td>\n",
       "      <td>Female</td>\n",
       "      <td>No</td>\n",
       "      <td>No</td>\n",
       "      <td>African American</td>\n",
       "      <td>148</td>\n",
       "    </tr>\n",
       "    <tr>\n",
       "      <th>15</th>\n",
       "      <td>16</td>\n",
       "      <td>20.089</td>\n",
       "      <td>2525</td>\n",
       "      <td>200</td>\n",
       "      <td>3</td>\n",
       "      <td>57</td>\n",
       "      <td>15</td>\n",
       "      <td>Female</td>\n",
       "      <td>No</td>\n",
       "      <td>Yes</td>\n",
       "      <td>African American</td>\n",
       "      <td>0</td>\n",
       "    </tr>\n",
       "    <tr>\n",
       "      <th>16</th>\n",
       "      <td>17</td>\n",
       "      <td>53.598</td>\n",
       "      <td>3714</td>\n",
       "      <td>286</td>\n",
       "      <td>3</td>\n",
       "      <td>73</td>\n",
       "      <td>17</td>\n",
       "      <td>Female</td>\n",
       "      <td>No</td>\n",
       "      <td>Yes</td>\n",
       "      <td>African American</td>\n",
       "      <td>0</td>\n",
       "    </tr>\n",
       "    <tr>\n",
       "      <th>17</th>\n",
       "      <td>18</td>\n",
       "      <td>36.496</td>\n",
       "      <td>4378</td>\n",
       "      <td>339</td>\n",
       "      <td>3</td>\n",
       "      <td>69</td>\n",
       "      <td>15</td>\n",
       "      <td>Female</td>\n",
       "      <td>No</td>\n",
       "      <td>Yes</td>\n",
       "      <td>Asian</td>\n",
       "      <td>368</td>\n",
       "    </tr>\n",
       "    <tr>\n",
       "      <th>18</th>\n",
       "      <td>19</td>\n",
       "      <td>49.570</td>\n",
       "      <td>6384</td>\n",
       "      <td>448</td>\n",
       "      <td>1</td>\n",
       "      <td>28</td>\n",
       "      <td>9</td>\n",
       "      <td>Female</td>\n",
       "      <td>No</td>\n",
       "      <td>Yes</td>\n",
       "      <td>Asian</td>\n",
       "      <td>891</td>\n",
       "    </tr>\n",
       "    <tr>\n",
       "      <th>19</th>\n",
       "      <td>20</td>\n",
       "      <td>42.079</td>\n",
       "      <td>6626</td>\n",
       "      <td>479</td>\n",
       "      <td>2</td>\n",
       "      <td>44</td>\n",
       "      <td>9</td>\n",
       "      <td>Male</td>\n",
       "      <td>No</td>\n",
       "      <td>No</td>\n",
       "      <td>Asian</td>\n",
       "      <td>1048</td>\n",
       "    </tr>\n",
       "    <tr>\n",
       "      <th>20</th>\n",
       "      <td>21</td>\n",
       "      <td>17.700</td>\n",
       "      <td>2860</td>\n",
       "      <td>235</td>\n",
       "      <td>4</td>\n",
       "      <td>63</td>\n",
       "      <td>16</td>\n",
       "      <td>Female</td>\n",
       "      <td>No</td>\n",
       "      <td>No</td>\n",
       "      <td>Asian</td>\n",
       "      <td>89</td>\n",
       "    </tr>\n",
       "    <tr>\n",
       "      <th>21</th>\n",
       "      <td>22</td>\n",
       "      <td>37.348</td>\n",
       "      <td>6378</td>\n",
       "      <td>458</td>\n",
       "      <td>1</td>\n",
       "      <td>72</td>\n",
       "      <td>17</td>\n",
       "      <td>Female</td>\n",
       "      <td>No</td>\n",
       "      <td>No</td>\n",
       "      <td>Caucasian</td>\n",
       "      <td>968</td>\n",
       "    </tr>\n",
       "    <tr>\n",
       "      <th>22</th>\n",
       "      <td>23</td>\n",
       "      <td>20.103</td>\n",
       "      <td>2631</td>\n",
       "      <td>213</td>\n",
       "      <td>3</td>\n",
       "      <td>61</td>\n",
       "      <td>10</td>\n",
       "      <td>Male</td>\n",
       "      <td>No</td>\n",
       "      <td>Yes</td>\n",
       "      <td>African American</td>\n",
       "      <td>0</td>\n",
       "    </tr>\n",
       "    <tr>\n",
       "      <th>23</th>\n",
       "      <td>24</td>\n",
       "      <td>64.027</td>\n",
       "      <td>5179</td>\n",
       "      <td>398</td>\n",
       "      <td>5</td>\n",
       "      <td>48</td>\n",
       "      <td>8</td>\n",
       "      <td>Male</td>\n",
       "      <td>No</td>\n",
       "      <td>Yes</td>\n",
       "      <td>African American</td>\n",
       "      <td>411</td>\n",
       "    </tr>\n",
       "    <tr>\n",
       "      <th>24</th>\n",
       "      <td>25</td>\n",
       "      <td>10.742</td>\n",
       "      <td>1757</td>\n",
       "      <td>156</td>\n",
       "      <td>3</td>\n",
       "      <td>57</td>\n",
       "      <td>15</td>\n",
       "      <td>Female</td>\n",
       "      <td>No</td>\n",
       "      <td>No</td>\n",
       "      <td>Caucasian</td>\n",
       "      <td>0</td>\n",
       "    </tr>\n",
       "    <tr>\n",
       "      <th>25</th>\n",
       "      <td>26</td>\n",
       "      <td>14.090</td>\n",
       "      <td>4323</td>\n",
       "      <td>326</td>\n",
       "      <td>5</td>\n",
       "      <td>25</td>\n",
       "      <td>16</td>\n",
       "      <td>Female</td>\n",
       "      <td>No</td>\n",
       "      <td>Yes</td>\n",
       "      <td>African American</td>\n",
       "      <td>671</td>\n",
       "    </tr>\n",
       "    <tr>\n",
       "      <th>26</th>\n",
       "      <td>27</td>\n",
       "      <td>42.471</td>\n",
       "      <td>3625</td>\n",
       "      <td>289</td>\n",
       "      <td>6</td>\n",
       "      <td>44</td>\n",
       "      <td>12</td>\n",
       "      <td>Female</td>\n",
       "      <td>Yes</td>\n",
       "      <td>No</td>\n",
       "      <td>Caucasian</td>\n",
       "      <td>654</td>\n",
       "    </tr>\n",
       "    <tr>\n",
       "      <th>27</th>\n",
       "      <td>28</td>\n",
       "      <td>32.793</td>\n",
       "      <td>4534</td>\n",
       "      <td>333</td>\n",
       "      <td>2</td>\n",
       "      <td>44</td>\n",
       "      <td>16</td>\n",
       "      <td>Male</td>\n",
       "      <td>No</td>\n",
       "      <td>No</td>\n",
       "      <td>African American</td>\n",
       "      <td>467</td>\n",
       "    </tr>\n",
       "    <tr>\n",
       "      <th>28</th>\n",
       "      <td>29</td>\n",
       "      <td>186.634</td>\n",
       "      <td>13414</td>\n",
       "      <td>949</td>\n",
       "      <td>2</td>\n",
       "      <td>41</td>\n",
       "      <td>14</td>\n",
       "      <td>Female</td>\n",
       "      <td>No</td>\n",
       "      <td>Yes</td>\n",
       "      <td>African American</td>\n",
       "      <td>1809</td>\n",
       "    </tr>\n",
       "    <tr>\n",
       "      <th>29</th>\n",
       "      <td>30</td>\n",
       "      <td>26.813</td>\n",
       "      <td>5611</td>\n",
       "      <td>411</td>\n",
       "      <td>4</td>\n",
       "      <td>55</td>\n",
       "      <td>16</td>\n",
       "      <td>Female</td>\n",
       "      <td>No</td>\n",
       "      <td>No</td>\n",
       "      <td>Caucasian</td>\n",
       "      <td>915</td>\n",
       "    </tr>\n",
       "    <tr>\n",
       "      <th>...</th>\n",
       "      <td>...</td>\n",
       "      <td>...</td>\n",
       "      <td>...</td>\n",
       "      <td>...</td>\n",
       "      <td>...</td>\n",
       "      <td>...</td>\n",
       "      <td>...</td>\n",
       "      <td>...</td>\n",
       "      <td>...</td>\n",
       "      <td>...</td>\n",
       "      <td>...</td>\n",
       "      <td>...</td>\n",
       "    </tr>\n",
       "    <tr>\n",
       "      <th>370</th>\n",
       "      <td>371</td>\n",
       "      <td>35.610</td>\n",
       "      <td>6135</td>\n",
       "      <td>466</td>\n",
       "      <td>4</td>\n",
       "      <td>40</td>\n",
       "      <td>12</td>\n",
       "      <td>Male</td>\n",
       "      <td>No</td>\n",
       "      <td>No</td>\n",
       "      <td>Caucasian</td>\n",
       "      <td>992</td>\n",
       "    </tr>\n",
       "    <tr>\n",
       "      <th>371</th>\n",
       "      <td>372</td>\n",
       "      <td>39.116</td>\n",
       "      <td>2150</td>\n",
       "      <td>173</td>\n",
       "      <td>4</td>\n",
       "      <td>75</td>\n",
       "      <td>15</td>\n",
       "      <td>Male</td>\n",
       "      <td>No</td>\n",
       "      <td>No</td>\n",
       "      <td>Caucasian</td>\n",
       "      <td>0</td>\n",
       "    </tr>\n",
       "    <tr>\n",
       "      <th>372</th>\n",
       "      <td>373</td>\n",
       "      <td>19.782</td>\n",
       "      <td>3782</td>\n",
       "      <td>293</td>\n",
       "      <td>2</td>\n",
       "      <td>46</td>\n",
       "      <td>16</td>\n",
       "      <td>Female</td>\n",
       "      <td>Yes</td>\n",
       "      <td>No</td>\n",
       "      <td>Caucasian</td>\n",
       "      <td>840</td>\n",
       "    </tr>\n",
       "    <tr>\n",
       "      <th>373</th>\n",
       "      <td>374</td>\n",
       "      <td>55.412</td>\n",
       "      <td>5354</td>\n",
       "      <td>383</td>\n",
       "      <td>2</td>\n",
       "      <td>37</td>\n",
       "      <td>16</td>\n",
       "      <td>Female</td>\n",
       "      <td>Yes</td>\n",
       "      <td>Yes</td>\n",
       "      <td>Caucasian</td>\n",
       "      <td>1003</td>\n",
       "    </tr>\n",
       "    <tr>\n",
       "      <th>374</th>\n",
       "      <td>375</td>\n",
       "      <td>29.400</td>\n",
       "      <td>4840</td>\n",
       "      <td>368</td>\n",
       "      <td>3</td>\n",
       "      <td>76</td>\n",
       "      <td>18</td>\n",
       "      <td>Female</td>\n",
       "      <td>No</td>\n",
       "      <td>Yes</td>\n",
       "      <td>Caucasian</td>\n",
       "      <td>588</td>\n",
       "    </tr>\n",
       "    <tr>\n",
       "      <th>375</th>\n",
       "      <td>376</td>\n",
       "      <td>20.974</td>\n",
       "      <td>5673</td>\n",
       "      <td>413</td>\n",
       "      <td>5</td>\n",
       "      <td>44</td>\n",
       "      <td>16</td>\n",
       "      <td>Female</td>\n",
       "      <td>No</td>\n",
       "      <td>Yes</td>\n",
       "      <td>Caucasian</td>\n",
       "      <td>1000</td>\n",
       "    </tr>\n",
       "    <tr>\n",
       "      <th>376</th>\n",
       "      <td>377</td>\n",
       "      <td>87.625</td>\n",
       "      <td>7167</td>\n",
       "      <td>515</td>\n",
       "      <td>2</td>\n",
       "      <td>46</td>\n",
       "      <td>10</td>\n",
       "      <td>Female</td>\n",
       "      <td>No</td>\n",
       "      <td>No</td>\n",
       "      <td>African American</td>\n",
       "      <td>767</td>\n",
       "    </tr>\n",
       "    <tr>\n",
       "      <th>377</th>\n",
       "      <td>378</td>\n",
       "      <td>28.144</td>\n",
       "      <td>1567</td>\n",
       "      <td>142</td>\n",
       "      <td>3</td>\n",
       "      <td>51</td>\n",
       "      <td>10</td>\n",
       "      <td>Male</td>\n",
       "      <td>No</td>\n",
       "      <td>Yes</td>\n",
       "      <td>Caucasian</td>\n",
       "      <td>0</td>\n",
       "    </tr>\n",
       "    <tr>\n",
       "      <th>378</th>\n",
       "      <td>379</td>\n",
       "      <td>19.349</td>\n",
       "      <td>4941</td>\n",
       "      <td>366</td>\n",
       "      <td>1</td>\n",
       "      <td>33</td>\n",
       "      <td>19</td>\n",
       "      <td>Male</td>\n",
       "      <td>No</td>\n",
       "      <td>Yes</td>\n",
       "      <td>Caucasian</td>\n",
       "      <td>717</td>\n",
       "    </tr>\n",
       "    <tr>\n",
       "      <th>379</th>\n",
       "      <td>380</td>\n",
       "      <td>53.308</td>\n",
       "      <td>2860</td>\n",
       "      <td>214</td>\n",
       "      <td>1</td>\n",
       "      <td>84</td>\n",
       "      <td>10</td>\n",
       "      <td>Male</td>\n",
       "      <td>No</td>\n",
       "      <td>Yes</td>\n",
       "      <td>Caucasian</td>\n",
       "      <td>0</td>\n",
       "    </tr>\n",
       "    <tr>\n",
       "      <th>380</th>\n",
       "      <td>381</td>\n",
       "      <td>115.123</td>\n",
       "      <td>7760</td>\n",
       "      <td>538</td>\n",
       "      <td>3</td>\n",
       "      <td>83</td>\n",
       "      <td>14</td>\n",
       "      <td>Female</td>\n",
       "      <td>No</td>\n",
       "      <td>No</td>\n",
       "      <td>African American</td>\n",
       "      <td>661</td>\n",
       "    </tr>\n",
       "    <tr>\n",
       "      <th>381</th>\n",
       "      <td>382</td>\n",
       "      <td>101.788</td>\n",
       "      <td>8029</td>\n",
       "      <td>574</td>\n",
       "      <td>2</td>\n",
       "      <td>84</td>\n",
       "      <td>11</td>\n",
       "      <td>Male</td>\n",
       "      <td>No</td>\n",
       "      <td>Yes</td>\n",
       "      <td>Caucasian</td>\n",
       "      <td>849</td>\n",
       "    </tr>\n",
       "    <tr>\n",
       "      <th>382</th>\n",
       "      <td>383</td>\n",
       "      <td>24.824</td>\n",
       "      <td>5495</td>\n",
       "      <td>409</td>\n",
       "      <td>1</td>\n",
       "      <td>33</td>\n",
       "      <td>9</td>\n",
       "      <td>Male</td>\n",
       "      <td>Yes</td>\n",
       "      <td>No</td>\n",
       "      <td>Caucasian</td>\n",
       "      <td>1352</td>\n",
       "    </tr>\n",
       "    <tr>\n",
       "      <th>383</th>\n",
       "      <td>384</td>\n",
       "      <td>14.292</td>\n",
       "      <td>3274</td>\n",
       "      <td>282</td>\n",
       "      <td>9</td>\n",
       "      <td>64</td>\n",
       "      <td>9</td>\n",
       "      <td>Male</td>\n",
       "      <td>No</td>\n",
       "      <td>Yes</td>\n",
       "      <td>Caucasian</td>\n",
       "      <td>382</td>\n",
       "    </tr>\n",
       "    <tr>\n",
       "      <th>384</th>\n",
       "      <td>385</td>\n",
       "      <td>20.088</td>\n",
       "      <td>1870</td>\n",
       "      <td>180</td>\n",
       "      <td>3</td>\n",
       "      <td>76</td>\n",
       "      <td>16</td>\n",
       "      <td>Male</td>\n",
       "      <td>No</td>\n",
       "      <td>No</td>\n",
       "      <td>African American</td>\n",
       "      <td>0</td>\n",
       "    </tr>\n",
       "    <tr>\n",
       "      <th>385</th>\n",
       "      <td>386</td>\n",
       "      <td>26.400</td>\n",
       "      <td>5640</td>\n",
       "      <td>398</td>\n",
       "      <td>3</td>\n",
       "      <td>58</td>\n",
       "      <td>15</td>\n",
       "      <td>Female</td>\n",
       "      <td>No</td>\n",
       "      <td>No</td>\n",
       "      <td>Asian</td>\n",
       "      <td>905</td>\n",
       "    </tr>\n",
       "    <tr>\n",
       "      <th>386</th>\n",
       "      <td>387</td>\n",
       "      <td>19.253</td>\n",
       "      <td>3683</td>\n",
       "      <td>287</td>\n",
       "      <td>4</td>\n",
       "      <td>57</td>\n",
       "      <td>10</td>\n",
       "      <td>Male</td>\n",
       "      <td>No</td>\n",
       "      <td>No</td>\n",
       "      <td>African American</td>\n",
       "      <td>371</td>\n",
       "    </tr>\n",
       "    <tr>\n",
       "      <th>387</th>\n",
       "      <td>388</td>\n",
       "      <td>16.529</td>\n",
       "      <td>1357</td>\n",
       "      <td>126</td>\n",
       "      <td>3</td>\n",
       "      <td>62</td>\n",
       "      <td>9</td>\n",
       "      <td>Male</td>\n",
       "      <td>No</td>\n",
       "      <td>No</td>\n",
       "      <td>Asian</td>\n",
       "      <td>0</td>\n",
       "    </tr>\n",
       "    <tr>\n",
       "      <th>388</th>\n",
       "      <td>389</td>\n",
       "      <td>37.878</td>\n",
       "      <td>6827</td>\n",
       "      <td>482</td>\n",
       "      <td>2</td>\n",
       "      <td>80</td>\n",
       "      <td>13</td>\n",
       "      <td>Female</td>\n",
       "      <td>No</td>\n",
       "      <td>No</td>\n",
       "      <td>Caucasian</td>\n",
       "      <td>1129</td>\n",
       "    </tr>\n",
       "    <tr>\n",
       "      <th>389</th>\n",
       "      <td>390</td>\n",
       "      <td>83.948</td>\n",
       "      <td>7100</td>\n",
       "      <td>503</td>\n",
       "      <td>2</td>\n",
       "      <td>44</td>\n",
       "      <td>18</td>\n",
       "      <td>Male</td>\n",
       "      <td>No</td>\n",
       "      <td>No</td>\n",
       "      <td>Caucasian</td>\n",
       "      <td>806</td>\n",
       "    </tr>\n",
       "    <tr>\n",
       "      <th>390</th>\n",
       "      <td>391</td>\n",
       "      <td>135.118</td>\n",
       "      <td>10578</td>\n",
       "      <td>747</td>\n",
       "      <td>3</td>\n",
       "      <td>81</td>\n",
       "      <td>15</td>\n",
       "      <td>Female</td>\n",
       "      <td>No</td>\n",
       "      <td>Yes</td>\n",
       "      <td>Asian</td>\n",
       "      <td>1393</td>\n",
       "    </tr>\n",
       "    <tr>\n",
       "      <th>391</th>\n",
       "      <td>392</td>\n",
       "      <td>73.327</td>\n",
       "      <td>6555</td>\n",
       "      <td>472</td>\n",
       "      <td>2</td>\n",
       "      <td>43</td>\n",
       "      <td>15</td>\n",
       "      <td>Female</td>\n",
       "      <td>No</td>\n",
       "      <td>No</td>\n",
       "      <td>Caucasian</td>\n",
       "      <td>721</td>\n",
       "    </tr>\n",
       "    <tr>\n",
       "      <th>392</th>\n",
       "      <td>393</td>\n",
       "      <td>25.974</td>\n",
       "      <td>2308</td>\n",
       "      <td>196</td>\n",
       "      <td>2</td>\n",
       "      <td>24</td>\n",
       "      <td>10</td>\n",
       "      <td>Male</td>\n",
       "      <td>No</td>\n",
       "      <td>No</td>\n",
       "      <td>Asian</td>\n",
       "      <td>0</td>\n",
       "    </tr>\n",
       "    <tr>\n",
       "      <th>393</th>\n",
       "      <td>394</td>\n",
       "      <td>17.316</td>\n",
       "      <td>1335</td>\n",
       "      <td>138</td>\n",
       "      <td>2</td>\n",
       "      <td>65</td>\n",
       "      <td>13</td>\n",
       "      <td>Male</td>\n",
       "      <td>No</td>\n",
       "      <td>No</td>\n",
       "      <td>African American</td>\n",
       "      <td>0</td>\n",
       "    </tr>\n",
       "    <tr>\n",
       "      <th>394</th>\n",
       "      <td>395</td>\n",
       "      <td>49.794</td>\n",
       "      <td>5758</td>\n",
       "      <td>410</td>\n",
       "      <td>4</td>\n",
       "      <td>40</td>\n",
       "      <td>8</td>\n",
       "      <td>Male</td>\n",
       "      <td>No</td>\n",
       "      <td>No</td>\n",
       "      <td>Caucasian</td>\n",
       "      <td>734</td>\n",
       "    </tr>\n",
       "    <tr>\n",
       "      <th>395</th>\n",
       "      <td>396</td>\n",
       "      <td>12.096</td>\n",
       "      <td>4100</td>\n",
       "      <td>307</td>\n",
       "      <td>3</td>\n",
       "      <td>32</td>\n",
       "      <td>13</td>\n",
       "      <td>Male</td>\n",
       "      <td>No</td>\n",
       "      <td>Yes</td>\n",
       "      <td>Caucasian</td>\n",
       "      <td>560</td>\n",
       "    </tr>\n",
       "    <tr>\n",
       "      <th>396</th>\n",
       "      <td>397</td>\n",
       "      <td>13.364</td>\n",
       "      <td>3838</td>\n",
       "      <td>296</td>\n",
       "      <td>5</td>\n",
       "      <td>65</td>\n",
       "      <td>17</td>\n",
       "      <td>Male</td>\n",
       "      <td>No</td>\n",
       "      <td>No</td>\n",
       "      <td>African American</td>\n",
       "      <td>480</td>\n",
       "    </tr>\n",
       "    <tr>\n",
       "      <th>397</th>\n",
       "      <td>398</td>\n",
       "      <td>57.872</td>\n",
       "      <td>4171</td>\n",
       "      <td>321</td>\n",
       "      <td>5</td>\n",
       "      <td>67</td>\n",
       "      <td>12</td>\n",
       "      <td>Female</td>\n",
       "      <td>No</td>\n",
       "      <td>Yes</td>\n",
       "      <td>Caucasian</td>\n",
       "      <td>138</td>\n",
       "    </tr>\n",
       "    <tr>\n",
       "      <th>398</th>\n",
       "      <td>399</td>\n",
       "      <td>37.728</td>\n",
       "      <td>2525</td>\n",
       "      <td>192</td>\n",
       "      <td>1</td>\n",
       "      <td>44</td>\n",
       "      <td>13</td>\n",
       "      <td>Male</td>\n",
       "      <td>No</td>\n",
       "      <td>Yes</td>\n",
       "      <td>Caucasian</td>\n",
       "      <td>0</td>\n",
       "    </tr>\n",
       "    <tr>\n",
       "      <th>399</th>\n",
       "      <td>400</td>\n",
       "      <td>18.701</td>\n",
       "      <td>5524</td>\n",
       "      <td>415</td>\n",
       "      <td>5</td>\n",
       "      <td>64</td>\n",
       "      <td>7</td>\n",
       "      <td>Female</td>\n",
       "      <td>No</td>\n",
       "      <td>No</td>\n",
       "      <td>Asian</td>\n",
       "      <td>966</td>\n",
       "    </tr>\n",
       "  </tbody>\n",
       "</table>\n",
       "<p>400 rows × 12 columns</p>\n",
       "</div>"
      ],
      "text/plain": [
       "     Unnamed: 0   Income  Limit  Rating  Cards  Age  Education  Gender  \\\n",
       "0             1   14.891   3606     283      2   34         11    Male   \n",
       "1             2  106.025   6645     483      3   82         15  Female   \n",
       "2             3  104.593   7075     514      4   71         11    Male   \n",
       "3             4  148.924   9504     681      3   36         11  Female   \n",
       "4             5   55.882   4897     357      2   68         16    Male   \n",
       "5             6   80.180   8047     569      4   77         10    Male   \n",
       "6             7   20.996   3388     259      2   37         12  Female   \n",
       "7             8   71.408   7114     512      2   87          9    Male   \n",
       "8             9   15.125   3300     266      5   66         13  Female   \n",
       "9            10   71.061   6819     491      3   41         19  Female   \n",
       "10           11   63.095   8117     589      4   30         14    Male   \n",
       "11           12   15.045   1311     138      3   64         16    Male   \n",
       "12           13   80.616   5308     394      1   57          7  Female   \n",
       "13           14   43.682   6922     511      1   49          9    Male   \n",
       "14           15   19.144   3291     269      2   75         13  Female   \n",
       "15           16   20.089   2525     200      3   57         15  Female   \n",
       "16           17   53.598   3714     286      3   73         17  Female   \n",
       "17           18   36.496   4378     339      3   69         15  Female   \n",
       "18           19   49.570   6384     448      1   28          9  Female   \n",
       "19           20   42.079   6626     479      2   44          9    Male   \n",
       "20           21   17.700   2860     235      4   63         16  Female   \n",
       "21           22   37.348   6378     458      1   72         17  Female   \n",
       "22           23   20.103   2631     213      3   61         10    Male   \n",
       "23           24   64.027   5179     398      5   48          8    Male   \n",
       "24           25   10.742   1757     156      3   57         15  Female   \n",
       "25           26   14.090   4323     326      5   25         16  Female   \n",
       "26           27   42.471   3625     289      6   44         12  Female   \n",
       "27           28   32.793   4534     333      2   44         16    Male   \n",
       "28           29  186.634  13414     949      2   41         14  Female   \n",
       "29           30   26.813   5611     411      4   55         16  Female   \n",
       "..          ...      ...    ...     ...    ...  ...        ...     ...   \n",
       "370         371   35.610   6135     466      4   40         12    Male   \n",
       "371         372   39.116   2150     173      4   75         15    Male   \n",
       "372         373   19.782   3782     293      2   46         16  Female   \n",
       "373         374   55.412   5354     383      2   37         16  Female   \n",
       "374         375   29.400   4840     368      3   76         18  Female   \n",
       "375         376   20.974   5673     413      5   44         16  Female   \n",
       "376         377   87.625   7167     515      2   46         10  Female   \n",
       "377         378   28.144   1567     142      3   51         10    Male   \n",
       "378         379   19.349   4941     366      1   33         19    Male   \n",
       "379         380   53.308   2860     214      1   84         10    Male   \n",
       "380         381  115.123   7760     538      3   83         14  Female   \n",
       "381         382  101.788   8029     574      2   84         11    Male   \n",
       "382         383   24.824   5495     409      1   33          9    Male   \n",
       "383         384   14.292   3274     282      9   64          9    Male   \n",
       "384         385   20.088   1870     180      3   76         16    Male   \n",
       "385         386   26.400   5640     398      3   58         15  Female   \n",
       "386         387   19.253   3683     287      4   57         10    Male   \n",
       "387         388   16.529   1357     126      3   62          9    Male   \n",
       "388         389   37.878   6827     482      2   80         13  Female   \n",
       "389         390   83.948   7100     503      2   44         18    Male   \n",
       "390         391  135.118  10578     747      3   81         15  Female   \n",
       "391         392   73.327   6555     472      2   43         15  Female   \n",
       "392         393   25.974   2308     196      2   24         10    Male   \n",
       "393         394   17.316   1335     138      2   65         13    Male   \n",
       "394         395   49.794   5758     410      4   40          8    Male   \n",
       "395         396   12.096   4100     307      3   32         13    Male   \n",
       "396         397   13.364   3838     296      5   65         17    Male   \n",
       "397         398   57.872   4171     321      5   67         12  Female   \n",
       "398         399   37.728   2525     192      1   44         13    Male   \n",
       "399         400   18.701   5524     415      5   64          7  Female   \n",
       "\n",
       "    Student Married         Ethnicity  Balance  \n",
       "0        No     Yes         Caucasian      333  \n",
       "1       Yes     Yes             Asian      903  \n",
       "2        No      No             Asian      580  \n",
       "3        No      No             Asian      964  \n",
       "4        No     Yes         Caucasian      331  \n",
       "5        No      No         Caucasian     1151  \n",
       "6        No      No  African American      203  \n",
       "7        No      No             Asian      872  \n",
       "8        No      No         Caucasian      279  \n",
       "9       Yes     Yes  African American     1350  \n",
       "10       No     Yes         Caucasian     1407  \n",
       "11       No      No         Caucasian        0  \n",
       "12       No     Yes             Asian      204  \n",
       "13       No     Yes         Caucasian     1081  \n",
       "14       No      No  African American      148  \n",
       "15       No     Yes  African American        0  \n",
       "16       No     Yes  African American        0  \n",
       "17       No     Yes             Asian      368  \n",
       "18       No     Yes             Asian      891  \n",
       "19       No      No             Asian     1048  \n",
       "20       No      No             Asian       89  \n",
       "21       No      No         Caucasian      968  \n",
       "22       No     Yes  African American        0  \n",
       "23       No     Yes  African American      411  \n",
       "24       No      No         Caucasian        0  \n",
       "25       No     Yes  African American      671  \n",
       "26      Yes      No         Caucasian      654  \n",
       "27       No      No  African American      467  \n",
       "28       No     Yes  African American     1809  \n",
       "29       No      No         Caucasian      915  \n",
       "..      ...     ...               ...      ...  \n",
       "370      No      No         Caucasian      992  \n",
       "371      No      No         Caucasian        0  \n",
       "372     Yes      No         Caucasian      840  \n",
       "373     Yes     Yes         Caucasian     1003  \n",
       "374      No     Yes         Caucasian      588  \n",
       "375      No     Yes         Caucasian     1000  \n",
       "376      No      No  African American      767  \n",
       "377      No     Yes         Caucasian        0  \n",
       "378      No     Yes         Caucasian      717  \n",
       "379      No     Yes         Caucasian        0  \n",
       "380      No      No  African American      661  \n",
       "381      No     Yes         Caucasian      849  \n",
       "382     Yes      No         Caucasian     1352  \n",
       "383      No     Yes         Caucasian      382  \n",
       "384      No      No  African American        0  \n",
       "385      No      No             Asian      905  \n",
       "386      No      No  African American      371  \n",
       "387      No      No             Asian        0  \n",
       "388      No      No         Caucasian     1129  \n",
       "389      No      No         Caucasian      806  \n",
       "390      No     Yes             Asian     1393  \n",
       "391      No      No         Caucasian      721  \n",
       "392      No      No             Asian        0  \n",
       "393      No      No  African American        0  \n",
       "394      No      No         Caucasian      734  \n",
       "395      No     Yes         Caucasian      560  \n",
       "396      No      No  African American      480  \n",
       "397      No     Yes         Caucasian      138  \n",
       "398      No     Yes         Caucasian        0  \n",
       "399      No      No             Asian      966  \n",
       "\n",
       "[400 rows x 12 columns]"
      ]
     },
     "execution_count": 26,
     "metadata": {},
     "output_type": "execute_result"
    }
   ],
   "source": [
    "import pandas as pd\n",
    "import matplotlib.pyplot as pyplt\n",
    "import seaborn as sns\n",
    "from sklearn.linear_model import LinearRegression\n",
    "\n",
    "credit_df = pd.read_csv('Credit.csv')\n",
    "credit_df"
   ]
  },
  {
   "cell_type": "code",
   "execution_count": 19,
   "metadata": {},
   "outputs": [
    {
     "data": {
      "text/plain": [
       "<matplotlib.axes._subplots.AxesSubplot at 0x1a16bbe400>"
      ]
     },
     "execution_count": 19,
     "metadata": {},
     "output_type": "execute_result"
    },
    {
     "data": {
      "image/png": "[encoded data removed]",
      "text/plain": [
       "<Figure size 432x288 with 1 Axes>"
      ]
     },
     "metadata": {
      "needs_background": "light"
     },
     "output_type": "display_data"
    }
   ],
   "source": [
    "# Target: Limit\n",
    "# Predictor: Income\n",
    "\n",
    "credit_df.plot(kind='scatter', x='Limit', y='Income')"
   ]
  },
  {
   "cell_type": "code",
   "execution_count": 46,
   "metadata": {},
   "outputs": [
    {
     "data": {
      "text/plain": [
       "[Text(0,0.5,'Residual'), Text(0.5,0,'Limit')]"
      ]
     },
     "execution_count": 46,
     "metadata": {},
     "output_type": "execute_result"
    },
    {
     "data": {
      "image/png": "[encoded data removed]",
      "text/plain": [
       "<Figure size 432x288 with 1 Axes>"
      ]
     },
     "metadata": {
      "needs_background": "light"
     },
     "output_type": "display_data"
    }
   ],
   "source": [
    "r2 = sns.residplot('Limit', 'Income', data=credit_df)\n",
    "r2.set(xlabel='Limit', ylabel='Residual')"
   ]
  },
  {
   "cell_type": "code",
   "execution_count": 47,
   "metadata": {},
   "outputs": [
    {
     "data": {
      "text/plain": [
       "LinearRegression(copy_X=True, fit_intercept=True, n_jobs=1, normalize=False)"
      ]
     },
     "execution_count": 47,
     "metadata": {},
     "output_type": "execute_result"
    }
   ],
   "source": [
    "reg2 = LinearRegression()\n",
    "reg2.fit(credit_df.loc[:, ['Limit']], credit_df.loc[:, 'Income'])"
   ]
  },
  {
   "cell_type": "code",
   "execution_count": 49,
   "metadata": {},
   "outputs": [
    {
     "data": {
      "text/plain": [
       "array([0.01209453])"
      ]
     },
     "execution_count": 49,
     "metadata": {},
     "output_type": "execute_result"
    }
   ],
   "source": [
    "reg2.coef_"
   ]
  },
  {
   "cell_type": "code",
   "execution_count": 50,
   "metadata": {},
   "outputs": [
    {
     "data": {
      "text/plain": [
       "-12.055966478174383"
      ]
     },
     "execution_count": 50,
     "metadata": {},
     "output_type": "execute_result"
    }
   ],
   "source": [
    "reg2.intercept_"
   ]
  },
  {
   "cell_type": "code",
   "execution_count": null,
   "metadata": {},
   "outputs": [],
   "source": [
    "# y = 0.01x - 12.06"
   ]
  },
  {
   "cell_type": "markdown",
   "metadata": {},
   "source": [
    "## Credit dataset, Limit vs Income\n",
    "\n",
    "- the scatter plot looks linear, but a lot of data are densed in some area\n",
    "- the residual plot has very dense data in some area\n",
    "- the slope is very low\n",
    "- As a result, I don't think the predictor is suitable for SLR"
   ]
  },
  {
   "cell_type": "code",
   "execution_count": 20,
   "metadata": {},
   "outputs": [
    {
     "data": {
      "text/plain": [
       "<matplotlib.axes._subplots.AxesSubplot at 0x1a16c8e358>"
      ]
     },
     "execution_count": 20,
     "metadata": {},
     "output_type": "execute_result"
    },
    {
     "data": {
      "image/png": "[encoded data removed]",
      "text/plain": [
       "<Figure size 432x288 with 1 Axes>"
      ]
     },
     "metadata": {
      "needs_background": "light"
     },
     "output_type": "display_data"
    }
   ],
   "source": [
    "# Target: Limit\n",
    "# Predictor: Rating\n",
    "\n",
    "credit_df.plot(kind='scatter', x='Limit', y='Rating')"
   ]
  },
  {
   "cell_type": "code",
   "execution_count": 53,
   "metadata": {},
   "outputs": [
    {
     "data": {
      "text/plain": [
       "[Text(0,0.5,'Residual'), Text(0.5,0,'Limit')]"
      ]
     },
     "execution_count": 53,
     "metadata": {},
     "output_type": "execute_result"
    },
    {
     "data": {
      "image/png": "[encoded data removed]",
      "text/plain": [
       "<Figure size 432x288 with 1 Axes>"
      ]
     },
     "metadata": {
      "needs_background": "light"
     },
     "output_type": "display_data"
    }
   ],
   "source": [
    "r3 = sns.residplot('Limit', 'Rating', data=credit_df)\n",
    "r3.set(xlabel='Limit', ylabel='Residual')"
   ]
  },
  {
   "cell_type": "code",
   "execution_count": 54,
   "metadata": {},
   "outputs": [
    {
     "data": {
      "text/plain": [
       "LinearRegression(copy_X=True, fit_intercept=True, n_jobs=1, normalize=False)"
      ]
     },
     "execution_count": 54,
     "metadata": {},
     "output_type": "execute_result"
    }
   ],
   "source": [
    "reg3 = LinearRegression()\n",
    "reg3.fit(credit_df.loc[:, ['Limit']], credit_df.loc[:, 'Rating'])"
   ]
  },
  {
   "cell_type": "code",
   "execution_count": 55,
   "metadata": {},
   "outputs": [
    {
     "data": {
      "text/plain": [
       "array([0.06682326])"
      ]
     },
     "execution_count": 55,
     "metadata": {},
     "output_type": "execute_result"
    }
   ],
   "source": [
    "reg3.coef_"
   ]
  },
  {
   "cell_type": "code",
   "execution_count": 56,
   "metadata": {},
   "outputs": [
    {
     "data": {
      "text/plain": [
       "38.49178870915216"
      ]
     },
     "execution_count": 56,
     "metadata": {},
     "output_type": "execute_result"
    }
   ],
   "source": [
    "reg3.intercept_"
   ]
  },
  {
   "cell_type": "code",
   "execution_count": null,
   "metadata": {},
   "outputs": [],
   "source": [
    "# y = 0.07x + 38.49"
   ]
  },
  {
   "cell_type": "markdown",
   "metadata": {},
   "source": [
    "## Credit dataset, Limit vs Rating\n",
    "\n",
    "- the scatter plot is clearly linear\n",
    "- the residual plot is scattered all over which is a good sign\n",
    "- the slope is positive 0.067, which means there's a relationship between Limit and Rating\n",
    "- As a result, I think the predictor is suitable for SLR"
   ]
  },
  {
   "cell_type": "code",
   "execution_count": 21,
   "metadata": {},
   "outputs": [
    {
     "data": {
      "text/plain": [
       "<matplotlib.axes._subplots.AxesSubplot at 0x1a16cf37b8>"
      ]
     },
     "execution_count": 21,
     "metadata": {},
     "output_type": "execute_result"
    },
    {
     "data": {
      "image/png": "[encoded data removed]",
      "text/plain": [
       "<Figure size 432x288 with 1 Axes>"
      ]
     },
     "metadata": {
      "needs_background": "light"
     },
     "output_type": "display_data"
    }
   ],
   "source": [
    "# Target: Limit\n",
    "# Predictor: Cards\n",
    "\n",
    "credit_df.plot(kind='scatter', x='Limit', y='Cards')"
   ]
  },
  {
   "cell_type": "code",
   "execution_count": 58,
   "metadata": {},
   "outputs": [
    {
     "data": {
      "text/plain": [
       "[Text(0,0.5,'Residual'), Text(0.5,0,'Limit')]"
      ]
     },
     "execution_count": 58,
     "metadata": {},
     "output_type": "execute_result"
    },
    {
     "data": {
      "image/png": "[encoded data removed]",
      "text/plain": [
       "<Figure size 432x288 with 1 Axes>"
      ]
     },
     "metadata": {
      "needs_background": "light"
     },
     "output_type": "display_data"
    }
   ],
   "source": [
    "r4 = sns.residplot('Limit', 'Cards', data=credit_df)\n",
    "r4.set(xlabel='Limit', ylabel='Residual')"
   ]
  },
  {
   "cell_type": "code",
   "execution_count": 61,
   "metadata": {},
   "outputs": [
    {
     "data": {
      "text/plain": [
       "LinearRegression(copy_X=True, fit_intercept=True, n_jobs=1, normalize=False)"
      ]
     },
     "execution_count": 61,
     "metadata": {},
     "output_type": "execute_result"
    }
   ],
   "source": [
    "reg4 = LinearRegression()\n",
    "reg4.fit(credit_df.loc[:, ['Limit']], credit_df.loc[:, 'Cards'])"
   ]
  },
  {
   "cell_type": "code",
   "execution_count": 62,
   "metadata": {},
   "outputs": [
    {
     "data": {
      "text/plain": [
       "array([6.07831934e-06])"
      ]
     },
     "execution_count": 62,
     "metadata": {},
     "output_type": "execute_result"
    }
   ],
   "source": [
    "reg4.coef_"
   ]
  },
  {
   "cell_type": "code",
   "execution_count": 63,
   "metadata": {},
   "outputs": [
    {
     "data": {
      "text/plain": [
       "2.9287155109180927"
      ]
     },
     "execution_count": 63,
     "metadata": {},
     "output_type": "execute_result"
    }
   ],
   "source": [
    "reg4.intercept_"
   ]
  },
  {
   "cell_type": "code",
   "execution_count": null,
   "metadata": {},
   "outputs": [],
   "source": [
    "# y = 0.000006x + 2.93"
   ]
  },
  {
   "cell_type": "markdown",
   "metadata": {},
   "source": [
    "## Credit dataset, Limit vs Cards\n",
    "\n",
    "- the scatter plot is no where near linear\n",
    "- the residual plot, data are not scattered all over which is bad for SLR\n",
    "- the slope is positive but very small\n",
    "- As a result, I don't think the predictor is suitable for SLR"
   ]
  },
  {
   "cell_type": "code",
   "execution_count": 22,
   "metadata": {},
   "outputs": [
    {
     "data": {
      "text/plain": [
       "<matplotlib.axes._subplots.AxesSubplot at 0x1a16e47630>"
      ]
     },
     "execution_count": 22,
     "metadata": {},
     "output_type": "execute_result"
    },
    {
     "data": {
      "image/png": "[encoded data removed]",
      "text/plain": [
       "<Figure size 432x288 with 1 Axes>"
      ]
     },
     "metadata": {
      "needs_background": "light"
     },
     "output_type": "display_data"
    }
   ],
   "source": [
    "# Target: Limit\n",
    "# Predictor: Age\n",
    "\n",
    "credit_df.plot(kind='scatter', x='Limit', y='Age')"
   ]
  },
  {
   "cell_type": "code",
   "execution_count": 67,
   "metadata": {},
   "outputs": [
    {
     "data": {
      "text/plain": [
       "[Text(0,0.5,'Residual'), Text(0.5,0,'Limit')]"
      ]
     },
     "execution_count": 67,
     "metadata": {},
     "output_type": "execute_result"
    },
    {
     "data": {
      "image/png": "[encoded data removed]",
      "text/plain": [
       "<Figure size 432x288 with 1 Axes>"
      ]
     },
     "metadata": {
      "needs_background": "light"
     },
     "output_type": "display_data"
    }
   ],
   "source": [
    "r4 = sns.residplot('Limit','Age', data=credit_df)\n",
    "r4.set(xlabel='Limit', ylabel='Residual')"
   ]
  },
  {
   "cell_type": "code",
   "execution_count": 70,
   "metadata": {},
   "outputs": [
    {
     "data": {
      "text/plain": [
       "LinearRegression(copy_X=True, fit_intercept=True, n_jobs=1, normalize=False)"
      ]
     },
     "execution_count": 70,
     "metadata": {},
     "output_type": "execute_result"
    }
   ],
   "source": [
    "reg4 = LinearRegression()\n",
    "reg4.fit(credit_df.loc[:, ['Limit']], credit_df.loc[:, 'Age'])"
   ]
  },
  {
   "cell_type": "code",
   "execution_count": 72,
   "metadata": {},
   "outputs": [
    {
     "data": {
      "text/plain": [
       "array([0.00075396])"
      ]
     },
     "execution_count": 72,
     "metadata": {},
     "output_type": "execute_result"
    }
   ],
   "source": [
    "reg4.coef_"
   ]
  },
  {
   "cell_type": "code",
   "execution_count": 73,
   "metadata": {},
   "outputs": [
    {
     "data": {
      "text/plain": [
       "52.097031537165535"
      ]
     },
     "execution_count": 73,
     "metadata": {},
     "output_type": "execute_result"
    }
   ],
   "source": [
    "reg4.intercept_"
   ]
  },
  {
   "cell_type": "code",
   "execution_count": null,
   "metadata": {},
   "outputs": [],
   "source": [
    "# y = 0.0008x + 52.097"
   ]
  },
  {
   "cell_type": "markdown",
   "metadata": {},
   "source": [
    "## Credit dataset, Limit vs Age\n",
    "\n",
    "- the scatter plot is all scatterd which is not good for SLR\n",
    "- the residual plot tends to be densed on the left area of the graph\n",
    "- the slope is positive but very small of 0.0007\n",
    "- As a result, I don't think the predictor is suitable for SLR"
   ]
  },
  {
   "cell_type": "code",
   "execution_count": 23,
   "metadata": {},
   "outputs": [
    {
     "data": {
      "text/plain": [
       "<matplotlib.axes._subplots.AxesSubplot at 0x1145b37b8>"
      ]
     },
     "execution_count": 23,
     "metadata": {},
     "output_type": "execute_result"
    },
    {
     "data": {
      "image/png": "[encoded data removed]",
      "text/plain": [
       "<Figure size 432x288 with 1 Axes>"
      ]
     },
     "metadata": {
      "needs_background": "light"
     },
     "output_type": "display_data"
    }
   ],
   "source": [
    "# Target: Limit\n",
    "# Predictor: Education\n",
    "\n",
    "credit_df.plot(kind='scatter', x='Limit', y='Education')"
   ]
  },
  {
   "cell_type": "code",
   "execution_count": 74,
   "metadata": {},
   "outputs": [
    {
     "data": {
      "text/plain": [
       "[Text(0,0.5,'Residual'), Text(0.5,0,'Limit')]"
      ]
     },
     "execution_count": 74,
     "metadata": {},
     "output_type": "execute_result"
    },
    {
     "data": {
      "image/png": "[encoded data removed]",
      "text/plain": [
       "<Figure size 432x288 with 1 Axes>"
      ]
     },
     "metadata": {
      "needs_background": "light"
     },
     "output_type": "display_data"
    }
   ],
   "source": [
    "r5 = sns.residplot('Limit', 'Education', data=credit_df)\n",
    "r5.set(xlabel='Limit', ylabel='Residual')"
   ]
  },
  {
   "cell_type": "code",
   "execution_count": 76,
   "metadata": {},
   "outputs": [
    {
     "data": {
      "text/plain": [
       "LinearRegression(copy_X=True, fit_intercept=True, n_jobs=1, normalize=False)"
      ]
     },
     "execution_count": 76,
     "metadata": {},
     "output_type": "execute_result"
    }
   ],
   "source": [
    "reg5 = LinearRegression()\n",
    "reg5.fit(credit_df.loc[:, ['Limit']], credit_df.loc[:, 'Education'])"
   ]
  },
  {
   "cell_type": "code",
   "execution_count": 77,
   "metadata": {},
   "outputs": [
    {
     "data": {
      "text/plain": [
       "array([-3.18837514e-05])"
      ]
     },
     "execution_count": 77,
     "metadata": {},
     "output_type": "execute_result"
    }
   ],
   "source": [
    "reg5.coef_"
   ]
  },
  {
   "cell_type": "code",
   "execution_count": 78,
   "metadata": {},
   "outputs": [
    {
     "data": {
      "text/plain": [
       "13.600988693077541"
      ]
     },
     "execution_count": 78,
     "metadata": {},
     "output_type": "execute_result"
    }
   ],
   "source": [
    "reg5.intercept_"
   ]
  },
  {
   "cell_type": "code",
   "execution_count": null,
   "metadata": {},
   "outputs": [],
   "source": [
    "# y = -3.19x + 13.60"
   ]
  },
  {
   "cell_type": "markdown",
   "metadata": {},
   "source": [
    "## Credit dataset, Limit vs Education\n",
    "\n",
    "- the scatter plot is clearly not linear\n",
    "- the residual plot, data formed many densed line which is not a good sign for SLR\n",
    "- the slope is negative 0.067, which means there's a negative relationship between Limit and Rating\n",
    "- As a result, I don't think the predictor is suitable for SLR"
   ]
  },
  {
   "cell_type": "markdown",
   "metadata": {},
   "source": [
    "## Summary for Credit dataset\n",
    "\n",
    "Only Rating is a good predic"
   ]
  }
 ],
 "metadata": {
  "kernelspec": {
   "display_name": "Python 3",
   "language": "python",
   "name": "python3"
  },
  "language_info": {
   "codemirror_mode": {
    "name": "ipython",
    "version": 3
   },
   "file_extension": ".py",
   "mimetype": "text/x-python",
   "name": "python",
   "nbconvert_exporter": "python",
   "pygments_lexer": "ipython3",
   "version": "3.7.0"
  }
 },
 "nbformat": 4,
 "nbformat_minor": 2
}
